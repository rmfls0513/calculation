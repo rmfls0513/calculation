{
 "cells": [
  {
   "cell_type": "markdown",
   "metadata": {},
   "source": [
    "# Bradford assay 기반 단백질 정량"
   ]
  },
  {
   "cell_type": "markdown",
   "metadata": {},
   "source": [
    "* 작성일: 2025.04.29\n",
    "* 학과: AI의약바이오\n",
    "* 학번: 2503110205\n",
    "* 이름: 김가영"
   ]
  },
  {
   "cell_type": "markdown",
   "metadata": {},
   "source": [
    "---"
   ]
  },
  {
   "cell_type": "markdown",
   "metadata": {},
   "source": [
    "## 1. 실험 목적\n",
    "* Bradford 단백질 정량법을 이용하여 표준 단백질(BSA)로부터 표준 곡선을 작성하고, 이를 바탕으로 미지 시료인 eGFP 용액의 단백질 농도를 계산한다."
   ]
  },
  {
   "cell_type": "markdown",
   "metadata": {},
   "source": [
    "<style>\n",
    ".jp-RenderedHTMLCommon table {\n",
    "    margin-left:0 !important;\n",
    "    margin-right: auto !important;\n",
    "}\n",
    "</style>"
   ]
  },
  {
   "cell_type": "markdown",
   "metadata": {},
   "source": [
    "## 2. 실험 재료 \n",
    "|필요 시약|실험 도구|\n",
    "|-|-|\n",
    "|1차 증류수 (DW)|UV/Vis spectrophotometer|\n",
    "|미지 농도 eGFP (enhanced green fluorescent protein)|cuvette (PMMA)|\n",
    "|1.4 mg/mL BSA proteins stock|micropipette|\n",
    "|5x Bradford reagent|micropipette tips|\n",
    "|-|EP tube|\n",
    "|-|Vortex|\n",
    "|-|15ml Conical tube|\n",
    "|-|Autoclave|\n",
    "|-|Auto-pipette|\n",
    "|-|Auto-pipette tips|\n",
    "|-|ice box|"
   ]
  },
  {
   "cell_type": "markdown",
   "metadata": {},
   "source": [
    "## 3. 실험 방법\n",
    "1) 1.4mg/mL BSA proteins stock dilution한다.    \n",
    "   1mg/mL로 1차 dilution.   \n",
    "   1mg/mL, 0.5mg/mL, 0.25mg/mL, 0.125mg/mL, 0.0625mg/mL로 serial dilution 한다. (protein은 ice에 놓고 사용)   \n",
    "2) 5x Bradford reagent를 1x Bradford reagent 10mL로 희석한다.\n",
    "3) Ep-tube에 990ul의 1x Bradford reagent 첨가 후 10uL의 BSA standard (1 – 0.0625mg/mL)첨가한다.\n",
    "4) 동시에 Ep-tube에 990uL의 1x Bradford reagent 첨가 후 10ul의 미지 농도의 eGFP 첨가한다.\n",
    "5) 상온에서 10분동안 incubation한다.\n",
    "6) PPMA cuvette에 반응용액 1mL를 옮긴다.\n",
    "7) 595에서 흡광도를 측정한다.\n",
    "8) BSA standard curve를 그리고 공식에 대입하여 eGFP 미지 농도를 구한다."
   ]
  },
  {
   "cell_type": "markdown",
   "metadata": {},
   "source": [
    "## 4. 실험 결과"
   ]
  },
  {
   "cell_type": "markdown",
   "metadata": {},
   "source": [
    "### 4-1. BSA 표준용액의 농도와 흡광도"
   ]
  },
  {
   "cell_type": "code",
   "execution_count": 50,
   "metadata": {},
   "outputs": [],
   "source": [
    "import pandas as pd"
   ]
  },
  {
   "cell_type": "code",
   "execution_count": 51,
   "metadata": {},
   "outputs": [],
   "source": [
    "filepath = 'D:/융합프로젝트/단백질 정량.xlsx'"
   ]
  },
  {
   "cell_type": "code",
   "execution_count": 52,
   "metadata": {},
   "outputs": [],
   "source": [
    "data =pd.read_excel(filepath)"
   ]
  },
  {
   "cell_type": "code",
   "execution_count": 53,
   "metadata": {},
   "outputs": [
    {
     "data": {
      "text/html": [
       "<div>\n",
       "<style scoped>\n",
       "    .dataframe tbody tr th:only-of-type {\n",
       "        vertical-align: middle;\n",
       "    }\n",
       "\n",
       "    .dataframe tbody tr th {\n",
       "        vertical-align: top;\n",
       "    }\n",
       "\n",
       "    .dataframe thead th {\n",
       "        text-align: right;\n",
       "    }\n",
       "</style>\n",
       "<table border=\"1\" class=\"dataframe\">\n",
       "  <thead>\n",
       "    <tr style=\"text-align: right;\">\n",
       "      <th></th>\n",
       "      <th>BSA</th>\n",
       "      <th>Absorbance</th>\n",
       "    </tr>\n",
       "  </thead>\n",
       "  <tbody>\n",
       "    <tr>\n",
       "      <th>0</th>\n",
       "      <td>1.0000</td>\n",
       "      <td>0.392</td>\n",
       "    </tr>\n",
       "    <tr>\n",
       "      <th>1</th>\n",
       "      <td>0.5000</td>\n",
       "      <td>0.204</td>\n",
       "    </tr>\n",
       "    <tr>\n",
       "      <th>2</th>\n",
       "      <td>0.2500</td>\n",
       "      <td>0.097</td>\n",
       "    </tr>\n",
       "    <tr>\n",
       "      <th>3</th>\n",
       "      <td>0.1250</td>\n",
       "      <td>0.026</td>\n",
       "    </tr>\n",
       "    <tr>\n",
       "      <th>4</th>\n",
       "      <td>0.0625</td>\n",
       "      <td>0.034</td>\n",
       "    </tr>\n",
       "    <tr>\n",
       "      <th>5</th>\n",
       "      <td>0.0000</td>\n",
       "      <td>0.000</td>\n",
       "    </tr>\n",
       "  </tbody>\n",
       "</table>\n",
       "</div>"
      ],
      "text/plain": [
       "      BSA  Absorbance\n",
       "0  1.0000       0.392\n",
       "1  0.5000       0.204\n",
       "2  0.2500       0.097\n",
       "3  0.1250       0.026\n",
       "4  0.0625       0.034\n",
       "5  0.0000       0.000"
      ]
     },
     "execution_count": 53,
     "metadata": {},
     "output_type": "execute_result"
    }
   ],
   "source": [
    "data"
   ]
  },
  {
   "cell_type": "markdown",
   "metadata": {},
   "source": [
    "### 4-2. BSA 표준 곡선 (Bradford Assay)"
   ]
  },
  {
   "cell_type": "code",
   "execution_count": 54,
   "metadata": {},
   "outputs": [],
   "source": [
    "import seaborn as sns"
   ]
  },
  {
   "cell_type": "code",
   "execution_count": 55,
   "metadata": {},
   "outputs": [],
   "source": [
    "x = data['BSA']\n",
    "y = data['Absorbance']"
   ]
  },
  {
   "cell_type": "code",
   "execution_count": 56,
   "metadata": {},
   "outputs": [],
   "source": [
    "import matplotlib as mpl\n",
    "import matplotlib.pyplot as plt\n",
    "import warnings\n",
    "warnings.filterwarnings(action='ignore')"
   ]
  },
  {
   "cell_type": "code",
   "execution_count": 57,
   "metadata": {},
   "outputs": [],
   "source": [
    "mpl.rcParams['font.family'] = 'Malgun Gothic'"
   ]
  },
  {
   "cell_type": "code",
   "execution_count": 58,
   "metadata": {},
   "outputs": [],
   "source": [
    "import scipy"
   ]
  },
  {
   "cell_type": "code",
   "execution_count": 59,
   "metadata": {},
   "outputs": [],
   "source": [
    "slope, intercept, r_value, p_value, std_err = scipy.stats.linregress(x,y)\n",
    "rsq = (r_value**2)\n",
    "equation = f'$y={slope:.4f}x + {intercept:.4f}$\\n$R^2={rsq:.4f}$'"
   ]
  },
  {
   "cell_type": "code",
   "execution_count": 60,
   "metadata": {},
   "outputs": [],
   "source": [
    "unknown = 0.297\n",
    "unknown_conc = (unknown-intercept)/slope"
   ]
  },
  {
   "cell_type": "code",
   "execution_count": 61,
   "metadata": {},
   "outputs": [],
   "source": [
    "import matplotlib.pyplot as plt"
   ]
  },
  {
   "cell_type": "code",
   "execution_count": 81,
   "metadata": {},
   "outputs": [
    {
     "data": {
      "image/png": "[encoded data removed]",
      "text/plain": [
       "<Figure size 640x480 with 1 Axes>"
      ]
     },
     "metadata": {},
     "output_type": "display_data"
    }
   ],
   "source": [
    "ax = sns.regplot(x=data['BSA'],y=data['Absorbance'])\n",
    "ax.annotate(\n",
    "    equation,\n",
    "    xy=(0.2,0.2),\n",
    "    ha='center', fontsize=12, color='green'\n",
    "    )\n",
    "\n",
    "plt.scatter(unknown_conc, unknown, color='red',s=50, label='예측값')\n",
    "#plt.axvline(x=unknown_conc, ymax=(unknown - min(y)) / (max(y) - min(y)), linestyle='--', color='gray')\n",
    "#plt.axhline(y=unknown, xmax=(unknown_conc - min(x)) / (max(x) - min(x)), linestyle='--', color='gray')\n",
    "vfrac = (unknown - data['Absorbance'].min()) / (data['Absorbance'].max() - data['Absorbance'].min())\n",
    "hfrac = (unknown_conc - data['BSA'].min()) / (data['BSA'].max() - data['BSA'].min())\n",
    "\n",
    "plt.axvline(x=unknown_conc, ymin=0, ymax=vfrac-0.05, linestyle='--', color='gray')\n",
    "plt.axhline(y=unknown, xmin=0, xmax=hfrac-0.02, linestyle='--', color='gray')\n",
    "\n",
    "\n",
    "plt.text(unknown+0.02, 0.05, f\"x = {unknown_conc:.3f}\", fontsize=10, color='gray')\n",
    "#plt.text(unknown+0.02, 0.05, f\"x = {unknown_conc}\", fontsize=10, color='gray')\n",
    "plt.text(0.0001, unknown + 0.02, f\"y = {unknown:.2f}\", fontsize=10, color='gray')\n",
    "\n",
    "plt.title(\"Brasford assay에 따른 단백질 정량량\")\n",
    "plt.xlabel(\"BSA\")\n",
    "plt.ylabel(\"Absorbance\")\n",
    "plt.legend()\n",
    "plt.tight_layout()"
   ]
  },
  {
   "cell_type": "markdown",
   "metadata": {},
   "source": [
    "미지 시료 eGFP의 흡광도 값인 0.297을 공식에 대입하면 미지의 단백질 농도를 구할 수 있다.   \n",
    "\n",
    "y = 0.3971x – 0.0027   \n",
    "y = 0.297   \n",
    "0.297 = 0.3971x – 0.0027   \n",
    "0.2997 = 0.3971x   \n",
    "x = 0.755  "
   ]
  },
  {
   "cell_type": "markdown",
   "metadata": {},
   "source": [
    "## 5. 고찰\n",
    "* 본 실험에서는 Bradford 단백질 정량법을 이용하여 BSA의 농도에 따른 흡광도를 측정하고, 이를 바탕으로 표준 곡선을 작성한 후 미지 시료(eGFP)의 단백질 농도를 계산함.\n",
    "\n",
    "### 5-1. 실험 반복 및 신뢰도 문제\n",
    "* 실험은 총 9회 반복됨.\n",
    "* 이 중 8회에서 결정계수(R²)가 0.99 미만으로 나타나 신뢰도 있는 데이터를 얻지 못함.\n",
    "* 반복 실험을 통해 최종적으로 R² = 0.9941의 안정적인 표준 곡선 확보.\n",
    "\n",
    "### 5-2. 실험 오차 및 원인 분석\n",
    "* 실험자 간 pipette 사용 미숙으로 인해 오차 발생.\n",
    "(예: 0.125 mg/mL의 흡광도(0.026)가 0.0625 mg/mL(0.034)보다 낮게 측정됨 → 비정상적인 결과.)\n",
    "* Bradford 정량법 특성상 단백질 농도가 낮을수록 흡광도도 낮아야 하므로, 이는 명백한 실험 오차로 판단됨.\n",
    "* 초반 2회의 실험은 조원 4명이 파트를 나누어 각자 진행 → 실험자 간 숙련도 차이로 정확도와 정밀도 저하 발생.\n",
    "\n",
    "### 5-3. 시료 보관 상태의 영향\n",
    "* 일부 실험에서 BSA standard를 ice 위에 보관하지 않고 상온에 방치함.\n",
    "* 단백질은 온도 변화에 민감하여 상온 노출 시 변성 또는 분해 가능성 존재 → 흡광도 값에 영향 미침.\n",
    "* 마지막 9번째 실험에서는 모든 시료를 ice 위에 보관하고 신속하게 실험을 진행함으로써 안정적인 흡광도 및 높은 R² 획득.\n",
    "\n",
    "### 5-4. 실험을 통해 얻은 교훈\n",
    "* 단백질 정량 실험에서 실험자의 일관된 테크닉과 정확한 pipetting이 매우 중요함.\n",
    "* 단백질 시료는 반드시 적절한 온도에서 보관 및 취급되어야 함.\n",
    "* 향후 유사한 실험 진행 시 시료의 보관 상태와 실험 정확도에 더욱 주의를 기울일 예정임."
   ]
  }
 ],
 "metadata": {
  "kernelspec": {
   "display_name": "Python 3",
   "language": "python",
   "name": "python3"
  },
  "language_info": {
   "codemirror_mode": {
    "name": "ipython",
    "version": 3
   },
   "file_extension": ".py",
   "mimetype": "text/x-python",
   "name": "python",
   "nbconvert_exporter": "python",
   "pygments_lexer": "ipython3",
   "version": "3.11.9"
  }
 },
 "nbformat": 4,
 "nbformat_minor": 2
}
